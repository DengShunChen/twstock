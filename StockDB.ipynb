{
 "cells": [
  {
   "cell_type": "code",
   "execution_count": 1,
   "metadata": {},
   "outputs": [],
   "source": [
    "import twstock\n",
    "from twstock import stock\n",
    "import sqlite3\n",
    "import pandas as pd\n",
    "from datetime import datetime\n",
    "import os"
   ]
  },
  {
   "cell_type": "code",
   "execution_count": 2,
   "metadata": {},
   "outputs": [],
   "source": [
    "strdate = datetime.now().strftime(\"%Y%m%d\")"
   ]
  },
  {
   "cell_type": "code",
   "execution_count": 3,
   "metadata": {},
   "outputs": [],
   "source": [
    "def save_stock(sid:str,strdate=None,enddate=None):\n",
    "    stock_data = stock.Stock(sid)\n",
    "\n",
    "    if strdate == None and enddate == None:\n",
    "        strdate = datetime.now().strftime(\"%Y-%m-%d\")\n",
    "    elif enddate == None:\n",
    "        year = int(strdate[0:4]) ; month = int(strdate[5:7])\n",
    "        stock_data.fetch(year=year,month=month)\n",
    "    else:\n",
    "        syear = int(strdate[0:4]) ; smonth = int(strdate[5:7])\n",
    "        eyear = int(enddate[0:4]) ; emonth = int(enddate[5:7])\n",
    "        stock_data.fetch_from_to(syear=syear,smonth=smonth,eyear=eyear,emonth=emonth)\n",
    "\n",
    "    dbdir = 'stocksdb'\n",
    "    dbname = '%s/%s.db' % (dbdir,sid)\n",
    "    try:\n",
    "        os.mkdir(dbdir)\n",
    "    except:        \n",
    "        pass\n",
    "    \n",
    "    conn = sqlite3.connect(dbname,detect_types=sqlite3.PARSE_DECLTYPES)\n",
    "    cursor = conn.cursor()\n",
    " \n",
    "    # Create table\n",
    "    cursor.execute('''CREATE TABLE IF NOT EXISTS stocks\n",
    "        (date timestamp, capacity integer, turnover text, open real, high real, \n",
    "        low real, close real, change real, transactions integer)''')\n",
    "\n",
    "    # Creat unique index\n",
    "    cursor.execute('CREATE UNIQUE INDEX IF NOT EXISTS date_unique ON stocks (date)')\n",
    "\n",
    "    # Insert a row of data\n",
    "    for data in stock_data.data:\n",
    "        cursor.execute(\"INSERT OR IGNORE INTO stocks VALUES (?,?,?,?,?,?,?,?,?)\",data)\n",
    "\n",
    "    # Save (commit) the changes\n",
    "    conn.commit()\n",
    " \n",
    "    # We can also close the connection if we are done with it.\n",
    "    # Just be sure any changes have been committed or they will be lost.\n",
    "    conn.close()"
   ]
  },
  {
   "cell_type": "code",
   "execution_count": 4,
   "metadata": {},
   "outputs": [],
   "source": [
    "def read_stock(sid:str,strdate=None,enddate=None):\n",
    "    if enddate == None:\n",
    "        enddate = datetime.now().strftime(\"%Y-%m-%d\")\n",
    "\n",
    "    dbdir = 'stocksdb'\n",
    "    dbname = '%s/%s.db' % (dbdir,sid)\n",
    "    conn = sqlite3.connect(dbname,detect_types=sqlite3.PARSE_DECLTYPES)\n",
    "    cursor = conn.cursor()\n",
    "\n",
    "    # Read table\n",
    "    sqlite_data = cursor.execute('''SELECT * FROM stocks WHERE date >= datetime(?) AND date <= datetime(?)''',(strdate,enddate))\n",
    "    \n",
    "    data_pd = pd.DataFrame(sqlite_data,columns=['date', 'capacity', 'turnover', 'open', 'high', 'low', 'close', 'change', 'transaction'])\n",
    "    \n",
    "    return data_pd"
   ]
  },
  {
   "cell_type": "code",
   "execution_count": 5,
   "metadata": {},
   "outputs": [],
   "source": [
    "stocklist =['2345','2405','2499','2610']"
   ]
  },
  {
   "cell_type": "code",
   "execution_count": 8,
   "metadata": {},
   "outputs": [],
   "source": [
    "save_stock('2345','2019-03-01','2019-05-01')"
   ]
  },
  {
   "cell_type": "code",
   "execution_count": null,
   "metadata": {},
   "outputs": [],
   "source": [
    "read_stock('2345','2019-03-01','2019-04-15')"
   ]
  },
  {
   "cell_type": "markdown",
   "metadata": {},
   "source": [
    "# 收集所有的股號"
   ]
  },
  {
   "cell_type": "code",
   "execution_count": null,
   "metadata": {},
   "outputs": [],
   "source": [
    "def get_stockids():\n",
    "    sids = []\n",
    "    twse = twstock.twse\n",
    "    for sid in twse.keys():\n",
    "        if twse[sid].type == '股票':\n",
    "            sids.append(sid)\n",
    "    return sids"
   ]
  },
  {
   "cell_type": "markdown",
   "metadata": {},
   "source": [
    "# 儲存最近日期之股市資料至sqlite"
   ]
  },
  {
   "cell_type": "code",
   "execution_count": null,
   "metadata": {},
   "outputs": [],
   "source": [
    "sids = get_stockids()\n",
    "for sid in sids:\n",
    "    print('Downloading ...%5s'%(sid))\n",
    "    try:\n",
    "        save_stock(sid)\n",
    "    except:\n",
    "        print(twse[sid].name,sid,' Calculate failed')"
   ]
  },
  {
   "cell_type": "markdown",
   "metadata": {},
   "source": [
    "# 儲存指定日期之股市資料至sqlite"
   ]
  },
  {
   "cell_type": "code",
   "execution_count": null,
   "metadata": {},
   "outputs": [],
   "source": [
    "strdate='2018-08-01'\n",
    "sids = get_stockids()\n",
    "for sid in sids:\n",
    "    print('Downloading ...%5s'%(sid))\n",
    "    try:\n",
    "        save_stock(sid,strdate)\n",
    "    except:\n",
    "        print(twse[sid].name,sid,' Calculate failed')"
   ]
  },
  {
   "cell_type": "code",
   "execution_count": null,
   "metadata": {},
   "outputs": [],
   "source": []
  }
 ],
 "metadata": {
  "kernelspec": {
   "display_name": "Python 3",
   "language": "python",
   "name": "python3"
  },
  "language_info": {
   "codemirror_mode": {
    "name": "ipython",
    "version": 3
   },
   "file_extension": ".py",
   "mimetype": "text/x-python",
   "name": "python",
   "nbconvert_exporter": "python",
   "pygments_lexer": "ipython3",
   "version": "3.7.3"
  }
 },
 "nbformat": 4,
 "nbformat_minor": 2
}
