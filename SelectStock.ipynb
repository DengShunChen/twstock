{
 "cells": [
  {
   "cell_type": "code",
   "execution_count": 263,
   "metadata": {},
   "outputs": [],
   "source": [
    "import twstock\n",
    "import twstock.stock as stock\n",
    "#import matplotlib.pyplot as plt\n",
    "import pandas as pd\n",
    "import json\n",
    "import sqlite3 \n",
    "from datetime import datetime"
   ]
  },
  {
   "cell_type": "markdown",
   "metadata": {},
   "source": [
    "# 讀取所有股票號碼"
   ]
  },
  {
   "cell_type": "code",
   "execution_count": 264,
   "metadata": {},
   "outputs": [],
   "source": [
    "def get_stockids():\n",
    "    sids = []\n",
    "    twse = twstock.twse\n",
    "    for sid in twse.keys():\n",
    "        if twse[sid].type == '股票':\n",
    "            sids.append(sid)\n",
    "    return sids"
   ]
  },
  {
   "cell_type": "markdown",
   "metadata": {},
   "source": [
    "# 讀取股票資料"
   ]
  },
  {
   "cell_type": "code",
   "execution_count": 265,
   "metadata": {},
   "outputs": [],
   "source": [
    "def read_stock(sid:str,strdate=None):\n",
    "    if strdate == None:\n",
    "        strdate = datetime.now().strftime(\"%Y%m%d\")\n",
    "\n",
    "    conn = sqlite3.connect('%s/%s.db' % (strdate,sid),detect_types=sqlite3.PARSE_DECLTYPES)\n",
    "    cursor = conn.cursor()\n",
    "\n",
    "    # Read table\n",
    "    sqlite_data = cursor.execute('SELECT * FROM stocks').fetchall()\n",
    "    \n",
    "    data_pd = pd.DataFrame(sqlite_data,columns=['date', 'capacity', 'turnover', 'open', 'high', 'low', 'close', 'change', 'transaction'])\n",
    "    \n",
    "    return data_pd"
   ]
  },
  {
   "cell_type": "markdown",
   "metadata": {},
   "source": [
    "# 計算所需股票資訊"
   ]
  },
  {
   "cell_type": "code",
   "execution_count": 266,
   "metadata": {},
   "outputs": [],
   "source": [
    "def get_info(sid:str,strdate=None):\n",
    "    stock_pd = read_stock(sid,strdate)\n",
    "    stock_pd = stock_pd.set_index('date')\n",
    "\n",
    "    stock_ma3 = stock_pd.rolling(3).mean()\n",
    "    stock_ma5 = stock_pd.rolling(5).mean()\n",
    "    stock_ma8 = stock_pd.rolling(8).mean()\n",
    "    stock_ma20 = stock_pd.rolling(20).mean()\n",
    "    \n",
    "    data = pd.concat([stock_ma3['close'],stock_ma5['close'],stock_ma8['close']],axis=1)    \n",
    "    std = data.std(axis=1)\n",
    "    mean = data.mean(axis=1)\n",
    "    \n",
    "    close = stock_pd[['close']]\n",
    "    capacity = stock_pd[['capacity']] /1000          \n",
    "    \n",
    "    data = {}\n",
    "    data['norstd'] = std / mean\n",
    "    data['close'] = close\n",
    "    data['capacity'] = capacity\n",
    "    data['ma20'] = stock_ma20['close']\n",
    "    data['slop'] = 0.5*(stock_pd['close'].iloc[-1] - stock_pd['close'].iloc[-3])\n",
    "    return data"
   ]
  },
  {
   "cell_type": "markdown",
   "metadata": {},
   "source": [
    "# 選股策略"
   ]
  },
  {
   "cell_type": "code",
   "execution_count": 267,
   "metadata": {},
   "outputs": [],
   "source": [
    "def select(strdate=None):\n",
    "    threshold = 0.002\n",
    "    ma20_factor = 0.01        # 10% make sure the price just over/below ma20\n",
    "    capacity_bound = 2000\n",
    "    bigcapa_factor = 1.5\n",
    "\n",
    "    sids = get_stockids()\n",
    "        \n",
    "    buy=''\n",
    "    sell=''\n",
    "    for sid in sids:\n",
    "        try:\n",
    "            # 讀取資料\n",
    "            data = get_info(sid,strdate)\n",
    "        \n",
    "            # 必要篩選條件\n",
    "            bound = data['capacity'].iloc[-1] > capacity_bound\n",
    "            if data['norstd'][-1] < threshold and bound['capacity']:\n",
    "\n",
    "                # 爆大量分析\n",
    "                capacond = data['capacity'].iloc[-1] > bigcapa_factor * data['capacity'].iloc[-2]\n",
    "                if capacond['capacity']:\n",
    "                    capamark='爆大量'\n",
    "                else:\n",
    "                    capamark=''\n",
    "\n",
    "                # 股票基本資訊\n",
    "                stockinfo = '%4.4s %6.5f %6.2f %7.2f %6d %-8.8s %3s'% \\\n",
    "                        (sid,data['norstd'][-1],data['close'].iloc[-1],data['ma20'].iloc[-1], \\\n",
    "                          data['capacity'].iloc[-1],twse[sid].name,capamark)\n",
    "\n",
    "                # 股票篩選機制\n",
    "                ma20diff = data['close'].iloc[-1] - data['ma20'].iloc[-1]\n",
    "                if  ma20diff['close'] > 0 and ma20diff['close'] < ma20_factor*data['ma20'][-1] and data['slop'] > 0:\n",
    "                    buy  =  buy + ' BUY: ' + stockinfo + '\\n'\n",
    "                elif  ma20diff['close'] < 0 and ma20diff['close'] > -ma20_factor*data['ma20'][-1] and data['slop'] < 0:\n",
    "                    sell = sell + 'SELL: ' + stockinfo + '\\n'\n",
    "        except:\n",
    "            pass\n",
    "            #print('%-8s %-4s Calculate failed'%(twse[sid].name,sid))\n",
    "\n",
    "    print('%3s %3s%6s%6s%6s%5s%3s'%('買賣','股號','離散度','股價','20日均價','成交量','股名'))\n",
    "    print(buy)\n",
    "    print(sell)"
   ]
  },
  {
   "cell_type": "code",
   "execution_count": 268,
   "metadata": {},
   "outputs": [
    {
     "name": "stdout",
     "output_type": "stream",
     "text": [
      " 買賣  股號   離散度    股價 20日均價  成交量 股名\n",
      "\n",
      "\n"
     ]
    }
   ],
   "source": [
    "select('20180801')"
   ]
  },
  {
   "cell_type": "code",
   "execution_count": 269,
   "metadata": {},
   "outputs": [
    {
     "name": "stdout",
     "output_type": "stream",
     "text": [
      " 買賣  股號   離散度    股價 20日均價  成交量 股名\n",
      " BUY: 1504 0.00138  24.75   24.60   2402 東元          \n",
      " BUY: 2002 0.00031  23.15   23.09   9648 中鋼          \n",
      " BUY: 2610 0.00143   9.23    9.18   5013 華航          \n",
      " BUY: 2801 0.00119  20.30   20.13   6969 彰銀          \n",
      "\n",
      "\n"
     ]
    }
   ],
   "source": [
    "select()"
   ]
  },
  {
   "cell_type": "code",
   "execution_count": null,
   "metadata": {},
   "outputs": [],
   "source": []
  }
 ],
 "metadata": {
  "kernelspec": {
   "display_name": "Python 3",
   "language": "python",
   "name": "python3"
  },
  "language_info": {
   "codemirror_mode": {
    "name": "ipython",
    "version": 3
   },
   "file_extension": ".py",
   "mimetype": "text/x-python",
   "name": "python",
   "nbconvert_exporter": "python",
   "pygments_lexer": "ipython3",
   "version": "3.7.4"
  }
 },
 "nbformat": 4,
 "nbformat_minor": 2
}
